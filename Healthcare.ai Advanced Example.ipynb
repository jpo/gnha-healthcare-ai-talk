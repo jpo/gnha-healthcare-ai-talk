{
 "cells": [
  {
   "cell_type": "markdown",
   "metadata": {},
   "source": [
    "# Healthcare.ai Advanced Example"
   ]
  },
  {
   "cell_type": "code",
   "execution_count": null,
   "metadata": {
    "collapsed": true
   },
   "outputs": [],
   "source": [
    "%matplotlib inline\n",
    "from sklearn.pipeline import Pipeline\n",
    "import healthcareai as hcai\n",
    "import healthcareai.common.transformers as hcai_transformers\n",
    "import healthcareai.common.filters as hcai_filters\n",
    "import healthcareai.trained_models.trained_supervised_model as hcai_tsm\n",
    "import pandas as pd\n",
    "import matplotlib.pyplot as plt\n",
    "plt.rcParams['figure.figsize'] = (20.0, 10.0)\n",
    "plt.rcParams.update({'font.size': 14})"
   ]
  },
  {
   "cell_type": "markdown",
   "metadata": {},
   "source": [
    "## Step 1: Load training data"
   ]
  },
  {
   "cell_type": "code",
   "execution_count": null,
   "metadata": {},
   "outputs": [],
   "source": [
    "df = hcai.load_diabetes()\n",
    "df.head()"
   ]
  },
  {
   "cell_type": "code",
   "execution_count": null,
   "metadata": {},
   "outputs": [],
   "source": [
    "df.iloc[:,2:5].hist()\n",
    "df.describe()"
   ]
  },
  {
   "cell_type": "markdown",
   "metadata": {},
   "source": [
    "## Step 2: Create a custom data preparation pipeline"
   ]
  },
  {
   "cell_type": "code",
   "execution_count": null,
   "metadata": {},
   "outputs": [],
   "source": [
    "clean_training_df = Pipeline([\n",
    "    ('remove_DTS_columns', hcai_filters.DataframeColumnSuffixFilter()),\n",
    "    ('remove_grain_column', hcai_filters.DataframeColumnRemover(columns_to_remove=['PatientID', 'PatientEncounterID'])),\n",
    "    ('imputation', hcai_transformers.DataFrameImputer(impute=True)),\n",
    "    ('null_row_filter', hcai_filters.DataframeNullValueFilter(excluded_columns=None)),\n",
    "    ('convert_target_to_binary', hcai_transformers.DataFrameConvertTargetToBinary('classification', 'ThirtyDayReadmitFLG')),\n",
    "    ('prediction_to_numeric', hcai_transformers.DataFrameConvertColumnToNumeric('ThirtyDayReadmitFLG')),\n",
    "    ('create_dummy_variables', hcai_transformers.DataFrameCreateDummyVariables(excluded_columns=['ThirtyDayReadmitFLG'])),\n",
    "]).fit_transform(df)\n",
    "\n",
    "clean_training_df.head()"
   ]
  },
  {
   "cell_type": "markdown",
   "metadata": {},
   "source": [
    "## Step 3: Create an advanced trainer with prepared training data"
   ]
  },
  {
   "cell_type": "code",
   "execution_count": null,
   "metadata": {
    "collapsed": true
   },
   "outputs": [],
   "source": [
    "trainer = hcai.AdvancedSupervisedModelTrainer(\n",
    "    dataframe=clean_training_df,\n",
    "    model_type='classification',\n",
    "    predicted_column='ThirtyDayReadmitFLG',\n",
    "    grain_column='PatientEncounterID',\n",
    "    verbose=False)"
   ]
  },
  {
   "cell_type": "markdown",
   "metadata": {},
   "source": [
    "## Step 4: Split the data into training and test sets\n",
    "\n",
    "Splits the data into 80/20 training and testing sets. Training sets are used to train the model and testing sets are used to estimate how well the model has been trained."
   ]
  },
  {
   "cell_type": "code",
   "execution_count": null,
   "metadata": {
    "collapsed": true
   },
   "outputs": [],
   "source": [
    "trainer.train_test_split()"
   ]
  },
  {
   "cell_type": "markdown",
   "metadata": {},
   "source": [
    "## Step 5: Train models with custom hyperparameters\n",
    "\n",
    "Hyperparameters are parameters that tune the algorithm in an attempt to optimize performance and produce more accurate results."
   ]
  },
  {
   "cell_type": "markdown",
   "metadata": {},
   "source": [
    "### Train a Logistic Regression model"
   ]
  },
  {
   "cell_type": "code",
   "execution_count": null,
   "metadata": {
    "collapsed": true
   },
   "outputs": [],
   "source": [
    "lr_hyperparameters = {\n",
    "    'C': [0.01, 0.1, 1, 10, 100],\n",
    "    'class_weight': [None, 'balanced']\n",
    "}\n",
    "\n",
    "trained_lr = trainer.logistic_regression(\n",
    "    scoring_metric='roc_auc',\n",
    "    hyperparameter_grid=lr_hyperparameters,\n",
    "    randomized_search=True,\n",
    "    number_iteration_samples=10)"
   ]
  },
  {
   "cell_type": "markdown",
   "metadata": {},
   "source": [
    "### Train a Random Forest model"
   ]
  },
  {
   "cell_type": "code",
   "execution_count": null,
   "metadata": {},
   "outputs": [],
   "source": [
    "rf_hyperparameters = {\n",
    "    'n_estimators': [50, 100, 200, 300],\n",
    "    'max_features': [1, 2, 3, 4],\n",
    "    'max_leaf_nodes': [None, 30, 400]\n",
    "}\n",
    "\n",
    "trained_rf = trainer.random_forest_classifier(\n",
    "    scoring_metric='roc_auc',\n",
    "    hyperparameter_grid=rf_hyperparameters,\n",
    "    randomized_search=True,\n",
    "    number_iteration_samples=10)\n",
    "\n",
    "hcai_tsm.plot_rf_features_from_tsm(trained_rf, trainer.x_train)"
   ]
  },
  {
   "cell_type": "markdown",
   "metadata": {},
   "source": [
    "### Train an ensemble classification\n",
    "\n",
    "This provides a simple way to put data in and have healthcare.ai train a few models and pick the best one for your data. You can specify the models you want to compare or you can let the ensemble trainer automatically train a Logistic Regression, KNN, and Random Forest for you."
   ]
  },
  {
   "cell_type": "code",
   "execution_count": null,
   "metadata": {},
   "outputs": [],
   "source": [
    "trained_ensemble = trainer.ensemble_classification(\n",
    "    scoring_metric='roc_auc')"
   ]
  },
  {
   "cell_type": "code",
   "execution_count": null,
   "metadata": {
    "collapsed": true
   },
   "outputs": [],
   "source": [
    "custom_ensemble_models = {\n",
    "    'Logistic Regression': trained_lr,\n",
    "    'Random Forest': trained_rf\n",
    "}\n",
    "\n",
    "custom_ensemble = trainer.ensemble_classification(\n",
    "    scoring_metric='roc_auc',\n",
    "    trained_model_by_name=custom_ensemble_models)"
   ]
  },
  {
   "cell_type": "markdown",
   "metadata": {},
   "source": [
    "## Step 6: Evaluate and compare models"
   ]
  },
  {
   "cell_type": "code",
   "execution_count": null,
   "metadata": {},
   "outputs": [],
   "source": [
    "# Create a list of all the models you just trained that you want to compare\n",
    "models_to_compare = [trained_lr, trained_rf, trained_ensemble]\n",
    "\n",
    "# Create a ROC plot that compares them.\n",
    "hcai_tsm.tsm_classification_comparison_plots(\n",
    "    trained_supervised_models=models_to_compare,\n",
    "    plot_type='ROC',\n",
    "    save=False)\n",
    "\n",
    "# Create a PR plot that compares them.\n",
    "hcai_tsm.tsm_classification_comparison_plots(\n",
    "    trained_supervised_models=models_to_compare,\n",
    "    plot_type='PR',\n",
    "    save=False)"
   ]
  }
 ],
 "metadata": {
  "kernelspec": {
   "display_name": "Python 3",
   "language": "python",
   "name": "python3"
  },
  "language_info": {
   "codemirror_mode": {
    "name": "ipython",
    "version": 3
   },
   "file_extension": ".py",
   "mimetype": "text/x-python",
   "name": "python",
   "nbconvert_exporter": "python",
   "pygments_lexer": "ipython3",
   "version": "3.6.2"
  }
 },
 "nbformat": 4,
 "nbformat_minor": 2
}
